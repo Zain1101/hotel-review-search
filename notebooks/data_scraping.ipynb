{
 "cells": [
  {
   "cell_type": "code",
   "execution_count": 1,
   "id": "e2b29cab-6fe4-4432-b56d-1d052fd4c04c",
   "metadata": {},
   "outputs": [
    {
     "name": "stdout",
     "output_type": "stream",
     "text": [
      "Requirement already satisfied: googlemaps in /opt/anaconda3/lib/python3.12/site-packages (4.10.0)\n",
      "Requirement already satisfied: requests<3.0,>=2.20.0 in /opt/anaconda3/lib/python3.12/site-packages (from googlemaps) (2.32.2)\n",
      "Requirement already satisfied: charset-normalizer<4,>=2 in /opt/anaconda3/lib/python3.12/site-packages (from requests<3.0,>=2.20.0->googlemaps) (2.0.4)\n",
      "Requirement already satisfied: idna<4,>=2.5 in /opt/anaconda3/lib/python3.12/site-packages (from requests<3.0,>=2.20.0->googlemaps) (3.7)\n",
      "Requirement already satisfied: urllib3<3,>=1.21.1 in /opt/anaconda3/lib/python3.12/site-packages (from requests<3.0,>=2.20.0->googlemaps) (2.2.2)\n",
      "Requirement already satisfied: certifi>=2017.4.17 in /opt/anaconda3/lib/python3.12/site-packages (from requests<3.0,>=2.20.0->googlemaps) (2025.4.26)\n"
     ]
    }
   ],
   "source": [
    "!pip install googlemaps"
   ]
  },
  {
   "cell_type": "code",
   "execution_count": 2,
   "id": "83271a91-c3ce-4059-9a76-58efde9fb81c",
   "metadata": {},
   "outputs": [],
   "source": [
    "my_key=\"Add your googlemaps API key here\""
   ]
  },
  {
   "cell_type": "code",
   "execution_count": 3,
   "id": "cbab5042-0608-4888-a1e6-0ca7ddaa02fa",
   "metadata": {},
   "outputs": [
    {
     "name": "stdout",
     "output_type": "stream",
     "text": [
      "Searching: hotels in Bahawalpur\n",
      "Searching: cheap hotels in Bahawalpur\n",
      "Searching: luxury hotels inBahawalpur\n",
      "Searching: lodges in Bahawalpur\n",
      "Searching: resorts in Bahawalpur\n",
      "Searching: guest houses in Bahawalpur\n",
      "Saved 542 reviews to hotels_reviews.csv\n"
     ]
    }
   ],
   "source": [
    "import googlemaps\n",
    "import pandas as pd\n",
    "import time\n",
    "import os\n",
    "\n",
    "API_KEY = my_key\n",
    "gmaps = googlemaps.Client(key=API_KEY)\n",
    "\n",
    "keywords = [\n",
    "    \"hotels in Bahawalpur\",\n",
    "    \"cheap hotels in Bahawalpur\",\n",
    "    \"luxury hotels inBahawalpur\",\n",
    "    \"lodges in Bahawalpur\",\n",
    "    \"resorts in Bahawalpur\",\n",
    "    \"guest houses in Bahawalpur\",\n",
    "]\n",
    "\n",
    "csv_file = \"hotels_reviews.csv\"\n",
    "data = []\n",
    "\n",
    "def get_hotels_by_query(query):\n",
    "    results = []\n",
    "    next_page_token = None\n",
    "    while True:\n",
    "        response = gmaps.places(query=query, type=\"lodging\", page_token=next_page_token)\n",
    "        results.extend(response.get(\"results\", []))\n",
    "        next_page_token = response.get(\"next_page_token\")\n",
    "        if not next_page_token:\n",
    "            break\n",
    "        time.sleep(2)\n",
    "    return results\n",
    "\n",
    "def get_reviews_for_place(place_id):\n",
    "    details = gmaps.place(place_id=place_id, fields=[\n",
    "        'name', 'formatted_address', 'rating', 'price_level', 'url',\n",
    "        'user_ratings_total', 'international_phone_number', 'reviews'\n",
    "    ])\n",
    "    return details.get('result', {})\n",
    "\n",
    "for query in keywords:\n",
    "    print(f\"Searching: {query}\")\n",
    "    hotels = get_hotels_by_query(query)\n",
    "    for hotel in hotels:\n",
    "        hotel_info = get_reviews_for_place(hotel['place_id'])\n",
    "        name = hotel_info.get('name', 'N/A')\n",
    "        address = hotel_info.get('formatted_address', 'N/A')\n",
    "        rating = hotel_info.get('rating', 'N/A')\n",
    "        price_level = hotel_info.get('price_level', 'Not Provided')\n",
    "        link = hotel_info.get('url', 'Not Available')\n",
    "        phone = hotel_info.get('international_phone_number', 'Not Provided')\n",
    "        total_reviews = hotel_info.get('user_ratings_total', 'N/A')\n",
    "        reviews = hotel_info.get('reviews', [])\n",
    "\n",
    "        for review in reviews:\n",
    "            data.append({\n",
    "                'City': \"Bahawalpur\",\n",
    "                'Hotel Name': name,\n",
    "                'Address': address,\n",
    "                'Rating': rating,\n",
    "                'Price Level': price_level,\n",
    "                'Total Reviews': total_reviews,\n",
    "                'Phone Number': phone,\n",
    "                'Reviewer': review.get('author_name'),\n",
    "                'Review Text': review.get('text'),\n",
    "                'Review Rating': review.get('rating'),\n",
    "                'Google Maps Link': link\n",
    "            })\n",
    "\n",
    "df = pd.DataFrame(data)\n",
    "\n",
    "if os.path.exists(csv_file):\n",
    "    df.to_csv(csv_file, mode='a', header=False, index=False)\n",
    "else:\n",
    "    df.to_csv(csv_file, index=False)\n",
    "\n",
    "print(f\"Saved {len(data)} reviews to {csv_file}\")\n"
   ]
  },
  {
   "cell_type": "code",
   "execution_count": 4,
   "id": "47307a13-d32a-478e-8198-1d9c42c4781a",
   "metadata": {},
   "outputs": [
    {
     "data": {
      "text/plain": [
       "City                1517\n",
       "Hotel Name          1517\n",
       "Address             1517\n",
       "Rating              1517\n",
       "Price Level         1517\n",
       "Total Reviews       1517\n",
       "Phone Number        1517\n",
       "Reviewer            1517\n",
       "Review Text         1488\n",
       "Review Rating       1517\n",
       "Google Maps Link    1517\n",
       "dtype: int64"
      ]
     },
     "execution_count": 4,
     "metadata": {},
     "output_type": "execute_result"
    }
   ],
   "source": [
    "data=pd.read_csv(\"hotels_reviews.csv\")\n",
    "data[data[\"City\"]==\"Skardu\"].count()"
   ]
  },
  {
   "cell_type": "code",
   "execution_count": 5,
   "id": "9904c43c-4110-482b-b886-d0d75f354891",
   "metadata": {},
   "outputs": [
    {
     "data": {
      "text/plain": [
       "array(['Lahore', 'Islamabad', 'Rawalpindi', 'Karachi', 'Quetta', 'Multan',\n",
       "       'Skardu', 'Muzaffarabad', 'Murree', 'Naran', 'Kaghan', 'Hyderabad',\n",
       "       'Hunza', 'Swat', 'Bahawalpur'], dtype=object)"
      ]
     },
     "execution_count": 5,
     "metadata": {},
     "output_type": "execute_result"
    }
   ],
   "source": [
    "data[\"City\"].unique()"
   ]
  },
  {
   "cell_type": "code",
   "execution_count": null,
   "id": "8c82a4f1-621c-4b8e-9c51-7d3b7ec13b5b",
   "metadata": {},
   "outputs": [],
   "source": []
  }
 ],
 "metadata": {
  "kernelspec": {
   "display_name": "Python 3 (ipykernel)",
   "language": "python",
   "name": "python3"
  },
  "language_info": {
   "codemirror_mode": {
    "name": "ipython",
    "version": 3
   },
   "file_extension": ".py",
   "mimetype": "text/x-python",
   "name": "python",
   "nbconvert_exporter": "python",
   "pygments_lexer": "ipython3",
   "version": "3.12.4"
  }
 },
 "nbformat": 4,
 "nbformat_minor": 5
}
