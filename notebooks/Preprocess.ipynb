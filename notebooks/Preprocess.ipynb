{
 "cells": [
  {
   "cell_type": "code",
   "execution_count": 10,
   "id": "8bcd4ced-26e5-40fc-bca7-2ca72afef405",
   "metadata": {},
   "outputs": [],
   "source": [
    "import pandas as pd\n",
    "import re\n",
    "import nltk\n",
    "from nltk.corpus import stopwords\n",
    "from nltk.stem import WordNetLemmatizer"
   ]
  },
  {
   "cell_type": "code",
   "execution_count": 13,
   "id": "77f7a5e3-8f57-4ce0-b4fd-d6550fabeda1",
   "metadata": {},
   "outputs": [
    {
     "data": {
      "text/html": [
       "<div>\n",
       "<style scoped>\n",
       "    .dataframe tbody tr th:only-of-type {\n",
       "        vertical-align: middle;\n",
       "    }\n",
       "\n",
       "    .dataframe tbody tr th {\n",
       "        vertical-align: top;\n",
       "    }\n",
       "\n",
       "    .dataframe thead th {\n",
       "        text-align: right;\n",
       "    }\n",
       "</style>\n",
       "<table border=\"1\" class=\"dataframe\">\n",
       "  <thead>\n",
       "    <tr style=\"text-align: right;\">\n",
       "      <th></th>\n",
       "      <th>City</th>\n",
       "      <th>Hotel Name</th>\n",
       "      <th>Address</th>\n",
       "      <th>Rating</th>\n",
       "      <th>Price Level</th>\n",
       "      <th>Total Reviews</th>\n",
       "      <th>Phone Number</th>\n",
       "      <th>Reviewer</th>\n",
       "      <th>Review Text</th>\n",
       "      <th>Review Rating</th>\n",
       "      <th>Google Maps Link</th>\n",
       "    </tr>\n",
       "  </thead>\n",
       "  <tbody>\n",
       "    <tr>\n",
       "      <th>0</th>\n",
       "      <td>Lahore</td>\n",
       "      <td>Pearl Continental Hotel, Lahore</td>\n",
       "      <td>Shahrah-e-Quaid-e-Azam, Garhi Shahu, Lahore, P...</td>\n",
       "      <td>4.4</td>\n",
       "      <td>Not Provided</td>\n",
       "      <td>41021</td>\n",
       "      <td>+92 42 111 505 505</td>\n",
       "      <td>Abdul Basit Latif</td>\n",
       "      <td>I had an amazing experience at this hotel\\nThe...</td>\n",
       "      <td>5</td>\n",
       "      <td>https://maps.google.com/?cid=15495242241067655383</td>\n",
       "    </tr>\n",
       "    <tr>\n",
       "      <th>1</th>\n",
       "      <td>Lahore</td>\n",
       "      <td>Pearl Continental Hotel, Lahore</td>\n",
       "      <td>Shahrah-e-Quaid-e-Azam, Garhi Shahu, Lahore, P...</td>\n",
       "      <td>4.4</td>\n",
       "      <td>Not Provided</td>\n",
       "      <td>41021</td>\n",
       "      <td>+92 42 111 505 505</td>\n",
       "      <td>Misal Fatima</td>\n",
       "      <td>I visited the PC hotel and the rooms were beau...</td>\n",
       "      <td>5</td>\n",
       "      <td>https://maps.google.com/?cid=15495242241067655383</td>\n",
       "    </tr>\n",
       "    <tr>\n",
       "      <th>2</th>\n",
       "      <td>Lahore</td>\n",
       "      <td>Pearl Continental Hotel, Lahore</td>\n",
       "      <td>Shahrah-e-Quaid-e-Azam, Garhi Shahu, Lahore, P...</td>\n",
       "      <td>4.4</td>\n",
       "      <td>Not Provided</td>\n",
       "      <td>41021</td>\n",
       "      <td>+92 42 111 505 505</td>\n",
       "      <td>Suhail Ahmed</td>\n",
       "      <td>I recently had the pleasure of staying at the ...</td>\n",
       "      <td>5</td>\n",
       "      <td>https://maps.google.com/?cid=15495242241067655383</td>\n",
       "    </tr>\n",
       "    <tr>\n",
       "      <th>3</th>\n",
       "      <td>Lahore</td>\n",
       "      <td>Pearl Continental Hotel, Lahore</td>\n",
       "      <td>Shahrah-e-Quaid-e-Azam, Garhi Shahu, Lahore, P...</td>\n",
       "      <td>4.4</td>\n",
       "      <td>Not Provided</td>\n",
       "      <td>41021</td>\n",
       "      <td>+92 42 111 505 505</td>\n",
       "      <td>fiza tirmzi</td>\n",
       "      <td>Had a lovely stay at PC Lahore. The rooms do n...</td>\n",
       "      <td>4</td>\n",
       "      <td>https://maps.google.com/?cid=15495242241067655383</td>\n",
       "    </tr>\n",
       "    <tr>\n",
       "      <th>4</th>\n",
       "      <td>Lahore</td>\n",
       "      <td>Pearl Continental Hotel, Lahore</td>\n",
       "      <td>Shahrah-e-Quaid-e-Azam, Garhi Shahu, Lahore, P...</td>\n",
       "      <td>4.4</td>\n",
       "      <td>Not Provided</td>\n",
       "      <td>41021</td>\n",
       "      <td>+92 42 111 505 505</td>\n",
       "      <td>Awais Mughal</td>\n",
       "      <td>I visited PC hotel. I had a pleasant experienc...</td>\n",
       "      <td>5</td>\n",
       "      <td>https://maps.google.com/?cid=15495242241067655383</td>\n",
       "    </tr>\n",
       "  </tbody>\n",
       "</table>\n",
       "</div>"
      ],
      "text/plain": [
       "     City                       Hotel Name  \\\n",
       "0  Lahore  Pearl Continental Hotel, Lahore   \n",
       "1  Lahore  Pearl Continental Hotel, Lahore   \n",
       "2  Lahore  Pearl Continental Hotel, Lahore   \n",
       "3  Lahore  Pearl Continental Hotel, Lahore   \n",
       "4  Lahore  Pearl Continental Hotel, Lahore   \n",
       "\n",
       "                                             Address  Rating   Price Level  \\\n",
       "0  Shahrah-e-Quaid-e-Azam, Garhi Shahu, Lahore, P...     4.4  Not Provided   \n",
       "1  Shahrah-e-Quaid-e-Azam, Garhi Shahu, Lahore, P...     4.4  Not Provided   \n",
       "2  Shahrah-e-Quaid-e-Azam, Garhi Shahu, Lahore, P...     4.4  Not Provided   \n",
       "3  Shahrah-e-Quaid-e-Azam, Garhi Shahu, Lahore, P...     4.4  Not Provided   \n",
       "4  Shahrah-e-Quaid-e-Azam, Garhi Shahu, Lahore, P...     4.4  Not Provided   \n",
       "\n",
       "   Total Reviews        Phone Number           Reviewer  \\\n",
       "0          41021  +92 42 111 505 505  Abdul Basit Latif   \n",
       "1          41021  +92 42 111 505 505       Misal Fatima   \n",
       "2          41021  +92 42 111 505 505       Suhail Ahmed   \n",
       "3          41021  +92 42 111 505 505        fiza tirmzi   \n",
       "4          41021  +92 42 111 505 505       Awais Mughal   \n",
       "\n",
       "                                         Review Text  Review Rating  \\\n",
       "0  I had an amazing experience at this hotel\\nThe...              5   \n",
       "1  I visited the PC hotel and the rooms were beau...              5   \n",
       "2  I recently had the pleasure of staying at the ...              5   \n",
       "3  Had a lovely stay at PC Lahore. The rooms do n...              4   \n",
       "4  I visited PC hotel. I had a pleasant experienc...              5   \n",
       "\n",
       "                                    Google Maps Link  \n",
       "0  https://maps.google.com/?cid=15495242241067655383  \n",
       "1  https://maps.google.com/?cid=15495242241067655383  \n",
       "2  https://maps.google.com/?cid=15495242241067655383  \n",
       "3  https://maps.google.com/?cid=15495242241067655383  \n",
       "4  https://maps.google.com/?cid=15495242241067655383  "
      ]
     },
     "execution_count": 13,
     "metadata": {},
     "output_type": "execute_result"
    }
   ],
   "source": [
    "df=pd.read_csv(\"hotels_reviews.csv\")\n",
    "df.head()"
   ]
  },
  {
   "cell_type": "code",
   "execution_count": 9,
   "id": "774fa69d-ce9e-4570-a19a-d5a1cfe8b22b",
   "metadata": {},
   "outputs": [],
   "source": [
    "df = df.dropna(subset=['Review Text']).reset_index(drop=True)"
   ]
  },
  {
   "cell_type": "code",
   "execution_count": 14,
   "id": "73772f8e-6d1b-4606-b699-7344d4f98126",
   "metadata": {},
   "outputs": [
    {
     "data": {
      "text/plain": [
       "(21320, 11)"
      ]
     },
     "execution_count": 14,
     "metadata": {},
     "output_type": "execute_result"
    }
   ],
   "source": [
    "df.shape"
   ]
  },
  {
   "cell_type": "code",
   "execution_count": 15,
   "id": "2a9f6bef-985f-42a6-bd07-5486451c50aa",
   "metadata": {},
   "outputs": [],
   "source": [
    "# Drop rows where the same reviewer wrote the exact same review text\n",
    "df = df.drop_duplicates(subset=['Reviewer', 'Review Text']).reset_index(drop=True)"
   ]
  },
  {
   "cell_type": "code",
   "execution_count": 16,
   "id": "4565690c-af78-470f-8aaf-30da13c72a52",
   "metadata": {},
   "outputs": [
    {
     "data": {
      "text/plain": [
       "(9955, 11)"
      ]
     },
     "execution_count": 16,
     "metadata": {},
     "output_type": "execute_result"
    }
   ],
   "source": [
    "df.shape"
   ]
  },
  {
   "cell_type": "code",
   "execution_count": 17,
   "id": "d378c94a-7281-4731-abbf-440ca846590a",
   "metadata": {},
   "outputs": [
    {
     "name": "stderr",
     "output_type": "stream",
     "text": [
      "[nltk_data] Downloading package stopwords to\n",
      "[nltk_data]     /Users/syedzainabbas/nltk_data...\n",
      "[nltk_data]   Package stopwords is already up-to-date!\n",
      "[nltk_data] Downloading package wordnet to\n",
      "[nltk_data]     /Users/syedzainabbas/nltk_data...\n",
      "[nltk_data]   Package wordnet is already up-to-date!\n",
      "[nltk_data] Downloading package omw-1.4 to\n",
      "[nltk_data]     /Users/syedzainabbas/nltk_data...\n",
      "[nltk_data]   Package omw-1.4 is already up-to-date!\n"
     ]
    },
    {
     "data": {
      "text/plain": [
       "True"
      ]
     },
     "execution_count": 17,
     "metadata": {},
     "output_type": "execute_result"
    }
   ],
   "source": [
    "nltk.download('stopwords')\n",
    "nltk.download('wordnet')\n",
    "nltk.download('omw-1.4')"
   ]
  },
  {
   "cell_type": "code",
   "execution_count": 18,
   "id": "23b511a4-b4e7-4b45-a909-472bd14bff2a",
   "metadata": {},
   "outputs": [],
   "source": [
    "stop_words = set(stopwords.words('english'))\n",
    "lemmatizer = WordNetLemmatizer()"
   ]
  },
  {
   "cell_type": "code",
   "execution_count": 19,
   "id": "0444f770-b4e8-4a61-993c-cf9d94f9937c",
   "metadata": {},
   "outputs": [],
   "source": [
    "# Define the preprocessing function\n",
    "def preprocess_text(text):\n",
    "    text = str(text).lower()  # Convert to lowercase\n",
    "    text = re.sub(r'[^a-z\\s]', '', text)  # Remove punctuation and digits\n",
    "    words = text.split()  # Tokenize\n",
    "    words = [lemmatizer.lemmatize(word) for word in words if word not in stop_words]  # Remove stopwords + lemmatize\n",
    "    return ' '.join(words)"
   ]
  },
  {
   "cell_type": "code",
   "execution_count": 20,
   "id": "19348707-f3c5-4d33-bf28-e9fd515eb458",
   "metadata": {},
   "outputs": [],
   "source": [
    "df['Cleaned Review Text'] = df['Review Text'].apply(preprocess_text)"
   ]
  },
  {
   "cell_type": "code",
   "execution_count": 21,
   "id": "30ef3145-5f9d-41dd-a3bf-08e3715f0f40",
   "metadata": {},
   "outputs": [
    {
     "name": "stdout",
     "output_type": "stream",
     "text": [
      "✅ Preprocessing complete. Saved as 'hotels_reviews_cleaned.csv'.\n"
     ]
    }
   ],
   "source": [
    "df.to_csv(\"data/hotels_reviews_cleaned.csv\", index=False)\n",
    "print(\"Preprocessing complete. Saved as 'hotels_reviews_cleaned.csv'.\")"
   ]
  },
  {
   "cell_type": "code",
   "execution_count": null,
   "id": "26b346e2-165b-4f6e-b968-173f94b5f19a",
   "metadata": {},
   "outputs": [],
   "source": []
  }
 ],
 "metadata": {
  "kernelspec": {
   "display_name": "Python 3 (ipykernel)",
   "language": "python",
   "name": "python3"
  },
  "language_info": {
   "codemirror_mode": {
    "name": "ipython",
    "version": 3
   },
   "file_extension": ".py",
   "mimetype": "text/x-python",
   "name": "python",
   "nbconvert_exporter": "python",
   "pygments_lexer": "ipython3",
   "version": "3.12.4"
  }
 },
 "nbformat": 4,
 "nbformat_minor": 5
}
